{
 "cells": [
  {
   "cell_type": "code",
   "execution_count": null,
   "id": "85128b0a-e995-4f9e-9921-902429fcd527",
   "metadata": {},
   "outputs": [],
   "source": [
    "# Enriching Data with City and Country\n",
    "import pandas as pd\n",
    "import requests\n",
    "\n",
    "# Google Maps API function\n",
    "def get_city_country(lat, lon):\n",
    "    api_key = \"YOUR_GOOGLE_MAPS_API_KEY\"  # Actual Google Maps API key\n",
    "    base_url = f\"https://maps.googleapis.com/maps/api/geocode/json?latlng={lat},{lon}&key={api_key}\"\n",
    "    response = requests.get(base_url)\n",
    "    if response.status_code == 200:\n",
    "        data = response.json()\n",
    "        if data['results']:\n",
    "            address_components = data['results'][0]['address_components']\n",
    "            city, country = None, None\n",
    "            for component in address_components:\n",
    "                if \"locality\" in component['types']:\n",
    "                    city = component['long_name']\n",
    "                elif \"country\" in component['types']:\n",
    "                    country = component['long_name']\n",
    "            return city, country\n",
    "    return None, None\n",
    "\n",
    "# Load the PurpleAir data\n",
    "file_path = \"purpleair_sensor_locations.csv\"  # Path to the previously saved CSV\n",
    "df = pd.read_csv(file_path)\n",
    "\n",
    "# Initialize new columns for city and country\n",
    "df['city'] = None\n",
    "df['country'] = None\n",
    "\n",
    "# Populate city and country columns\n",
    "for index, row in df.iterrows():\n",
    "    lat, lon = row['latitude'], row['longitude']\n",
    "    city, country = get_city_country(lat, lon)\n",
    "    df.at[index, 'city'] = city\n",
    "    df.at[index, 'country'] = country\n",
    "\n",
    "# Save the updated DataFrame to a new CSV file\n",
    "output_file_path = \"sensor_locations_with_city_country.csv\"\n",
    "df.to_csv(output_file_path, index=False)\n",
    "print(f\"Updated file saved to {output_file_path}\")"
   ]
  }
 ],
 "metadata": {
  "kernelspec": {
   "display_name": "Python 3 (ipykernel)",
   "language": "python",
   "name": "python3"
  },
  "language_info": {
   "codemirror_mode": {
    "name": "ipython",
    "version": 3
   },
   "file_extension": ".py",
   "mimetype": "text/x-python",
   "name": "python",
   "nbconvert_exporter": "python",
   "pygments_lexer": "ipython3",
   "version": "3.11.7"
  }
 },
 "nbformat": 4,
 "nbformat_minor": 5
}
