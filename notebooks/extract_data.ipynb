{
 "cells": [
  {
   "cell_type": "code",
   "execution_count": null,
   "id": "8a821f34-dd6c-49ff-b7ab-5de67d1fbc86",
   "metadata": {},
   "outputs": [],
   "source": [
    "# Extracting Data from the PurpleAir API\n",
    "\n",
    "# Install the necessary libraries: \n",
    "\n",
    "import requests\n",
    "import pandas as pd\n",
    "\n",
    "# PurpleAir API details\n",
    "api_url = \"https://api.purpleair.com/v1/sensors\"\n",
    "api_key = \"YOUR_PURPLEAIR_API_KEY\"  # Actual PurpleAir API key\n",
    "\n",
    "headers = {\n",
    "    \"X-API-Key\": api_key\n",
    "}\n",
    "\n",
    "# Define the fields you want to extract\n",
    "fields = \"pm2.5_atm,temperature,humidity,sensor_index,latitude,longitude\"\n",
    "\n",
    "# Add fields as query parameters\n",
    "params = {\n",
    "    \"fields\": fields\n",
    "}\n",
    "\n",
    "# Make the API request\n",
    "response = requests.get(api_url, headers=headers, params=params)\n",
    "\n",
    "if response.status_code == 200:\n",
    "    print(\"API Request Successful!\")\n",
    "    data = response.json()\n",
    "\n",
    "    # Extract columns and data from the API response\n",
    "    columns = data.get(\"fields\", [])\n",
    "    sensor_data = data.get(\"data\", [])\n",
    "\n",
    "    # Create a DataFrame\n",
    "    df = pd.DataFrame(sensor_data, columns=columns)\n",
    "\n",
    "    # Save the DataFrame to a CSV file\n",
    "    file_path = \"purpleair_sensor_locations.csv\"\n",
    "    df.to_csv(file_path, index=False)\n",
    "    print(f\"Data saved to {file_path}\")\n",
    "else:\n",
    "    print(f\"API Request Failed with status code {response.status_code}: {response.text}\")\n"
   ]
  }
 ],
 "metadata": {
  "kernelspec": {
   "display_name": "Python 3 (ipykernel)",
   "language": "python",
   "name": "python3"
  },
  "language_info": {
   "codemirror_mode": {
    "name": "ipython",
    "version": 3
   },
   "file_extension": ".py",
   "mimetype": "text/x-python",
   "name": "python",
   "nbconvert_exporter": "python",
   "pygments_lexer": "ipython3",
   "version": "3.11.7"
  }
 },
 "nbformat": 4,
 "nbformat_minor": 5
}
